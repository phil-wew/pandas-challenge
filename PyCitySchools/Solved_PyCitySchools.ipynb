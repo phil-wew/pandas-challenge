{
 "cells": [
  {
   "cell_type": "code",
   "execution_count": 1020,
   "metadata": {},
   "outputs": [
    {
     "name": "stdout",
     "output_type": "stream",
     "text": [
      "<class 'pandas.core.frame.DataFrame'>\n",
      "Int64Index: 39170 entries, 0 to 39169\n",
      "Data columns (total 11 columns):\n",
      " #   Column         Non-Null Count  Dtype \n",
      "---  ------         --------------  ----- \n",
      " 0   Student ID     39170 non-null  int64 \n",
      " 1   student_name   39170 non-null  object\n",
      " 2   gender         39170 non-null  object\n",
      " 3   grade          39170 non-null  object\n",
      " 4   school_name    39170 non-null  object\n",
      " 5   reading_score  39170 non-null  int64 \n",
      " 6   math_score     39170 non-null  int64 \n",
      " 7   School ID      39170 non-null  int64 \n",
      " 8   school_type    39170 non-null  object\n",
      " 9   size           39170 non-null  int64 \n",
      " 10  budget         39170 non-null  int64 \n",
      "dtypes: int64(6), object(5)\n",
      "memory usage: 3.6+ MB\n"
     ]
    }
   ],
   "source": [
    "# Dependencies and Setup\n",
    "import pandas as pd\n",
    "import numpy as np\n",
    "\n",
    "# File to Load (Remember to Change These)\n",
    "school_data_to_load = \"Resources/schools_complete.csv\"\n",
    "student_data_to_load = \"Resources/students_complete.csv\"\n",
    "\n",
    "# Read School and Student Data File and store into Pandas DataFrames\n",
    "school_data = pd.read_csv(school_data_to_load)\n",
    "student_data = pd.read_csv(student_data_to_load)\n",
    "\n",
    "# Combine the data into a single dataset.  \n",
    "school_data_df = pd.merge(student_data, school_data, how=\"left\", on=[\"school_name\", \"school_name\"])\n",
    "\n",
    "renamed_df = school_data_df.rename(columns={'type':'school_type'})\n",
    "\n",
    "renamed_df.info()"
   ]
  },
  {
   "cell_type": "code",
   "execution_count": 1021,
   "metadata": {
    "scrolled": true
   },
   "outputs": [
    {
     "data": {
      "text/html": [
       "<div>\n",
       "<style scoped>\n",
       "    .dataframe tbody tr th:only-of-type {\n",
       "        vertical-align: middle;\n",
       "    }\n",
       "\n",
       "    .dataframe tbody tr th {\n",
       "        vertical-align: top;\n",
       "    }\n",
       "\n",
       "    .dataframe thead th {\n",
       "        text-align: right;\n",
       "    }\n",
       "</style>\n",
       "<table border=\"1\" class=\"dataframe\">\n",
       "  <thead>\n",
       "    <tr style=\"text-align: right;\">\n",
       "      <th></th>\n",
       "      <th>Student ID</th>\n",
       "      <th>student_name</th>\n",
       "      <th>gender</th>\n",
       "      <th>grade</th>\n",
       "      <th>school_name</th>\n",
       "      <th>reading_score</th>\n",
       "      <th>math_score</th>\n",
       "      <th>School ID</th>\n",
       "      <th>school_type</th>\n",
       "      <th>size</th>\n",
       "      <th>budget</th>\n",
       "    </tr>\n",
       "  </thead>\n",
       "  <tbody>\n",
       "    <tr>\n",
       "      <th>0</th>\n",
       "      <td>0</td>\n",
       "      <td>Paul Bradley</td>\n",
       "      <td>M</td>\n",
       "      <td>9th</td>\n",
       "      <td>Huang High School</td>\n",
       "      <td>66</td>\n",
       "      <td>79</td>\n",
       "      <td>0</td>\n",
       "      <td>District</td>\n",
       "      <td>2917</td>\n",
       "      <td>1910635</td>\n",
       "    </tr>\n",
       "    <tr>\n",
       "      <th>1</th>\n",
       "      <td>1</td>\n",
       "      <td>Victor Smith</td>\n",
       "      <td>M</td>\n",
       "      <td>12th</td>\n",
       "      <td>Huang High School</td>\n",
       "      <td>94</td>\n",
       "      <td>61</td>\n",
       "      <td>0</td>\n",
       "      <td>District</td>\n",
       "      <td>2917</td>\n",
       "      <td>1910635</td>\n",
       "    </tr>\n",
       "    <tr>\n",
       "      <th>2</th>\n",
       "      <td>2</td>\n",
       "      <td>Kevin Rodriguez</td>\n",
       "      <td>M</td>\n",
       "      <td>12th</td>\n",
       "      <td>Huang High School</td>\n",
       "      <td>90</td>\n",
       "      <td>60</td>\n",
       "      <td>0</td>\n",
       "      <td>District</td>\n",
       "      <td>2917</td>\n",
       "      <td>1910635</td>\n",
       "    </tr>\n",
       "    <tr>\n",
       "      <th>3</th>\n",
       "      <td>3</td>\n",
       "      <td>Dr. Richard Scott</td>\n",
       "      <td>M</td>\n",
       "      <td>12th</td>\n",
       "      <td>Huang High School</td>\n",
       "      <td>67</td>\n",
       "      <td>58</td>\n",
       "      <td>0</td>\n",
       "      <td>District</td>\n",
       "      <td>2917</td>\n",
       "      <td>1910635</td>\n",
       "    </tr>\n",
       "    <tr>\n",
       "      <th>4</th>\n",
       "      <td>4</td>\n",
       "      <td>Bonnie Ray</td>\n",
       "      <td>F</td>\n",
       "      <td>9th</td>\n",
       "      <td>Huang High School</td>\n",
       "      <td>97</td>\n",
       "      <td>84</td>\n",
       "      <td>0</td>\n",
       "      <td>District</td>\n",
       "      <td>2917</td>\n",
       "      <td>1910635</td>\n",
       "    </tr>\n",
       "  </tbody>\n",
       "</table>\n",
       "</div>"
      ],
      "text/plain": [
       "   Student ID       student_name gender grade        school_name  \\\n",
       "0           0       Paul Bradley      M   9th  Huang High School   \n",
       "1           1       Victor Smith      M  12th  Huang High School   \n",
       "2           2    Kevin Rodriguez      M  12th  Huang High School   \n",
       "3           3  Dr. Richard Scott      M  12th  Huang High School   \n",
       "4           4         Bonnie Ray      F   9th  Huang High School   \n",
       "\n",
       "   reading_score  math_score  School ID school_type  size   budget  \n",
       "0             66          79          0    District  2917  1910635  \n",
       "1             94          61          0    District  2917  1910635  \n",
       "2             90          60          0    District  2917  1910635  \n",
       "3             67          58          0    District  2917  1910635  \n",
       "4             97          84          0    District  2917  1910635  "
      ]
     },
     "execution_count": 1021,
     "metadata": {},
     "output_type": "execute_result"
    }
   ],
   "source": [
    "renamed_df.head()"
   ]
  },
  {
   "cell_type": "code",
   "execution_count": 1022,
   "metadata": {},
   "outputs": [],
   "source": [
    "#average total math score\n",
    "renamed_df['math_score'] = pd.to_numeric(renamed_df['math_score'])\n",
    "\n",
    "avg_math = renamed_df['math_score'].mean()"
   ]
  },
  {
   "cell_type": "code",
   "execution_count": 1023,
   "metadata": {},
   "outputs": [],
   "source": [
    "#average reading score\n",
    "renamed_df['reading_score'] = pd.to_numeric(school_data_df['reading_score'])\n",
    "avg_reading = renamed_df['reading_score'].mean()"
   ]
  },
  {
   "cell_type": "code",
   "execution_count": 1024,
   "metadata": {},
   "outputs": [],
   "source": [
    "#total budget\n",
    "total_budget = renamed_df['budget'].sum()\n"
   ]
  },
  {
   "cell_type": "code",
   "execution_count": 1025,
   "metadata": {},
   "outputs": [
    {
     "data": {
      "text/plain": [
       "15"
      ]
     },
     "execution_count": 1025,
     "metadata": {},
     "output_type": "execute_result"
    }
   ],
   "source": [
    "#total schools\n",
    "total_schools = len(renamed_df[\"school_name\"].unique())\n",
    "\n",
    "total_schools"
   ]
  },
  {
   "cell_type": "code",
   "execution_count": 1026,
   "metadata": {},
   "outputs": [
    {
     "data": {
      "text/plain": [
       "39170"
      ]
     },
     "execution_count": 1026,
     "metadata": {},
     "output_type": "execute_result"
    }
   ],
   "source": [
    "#total students\n",
    "\n",
    "total_students = len(renamed_df[\"student_name\"])\n",
    "\n",
    "total_students"
   ]
  },
  {
   "cell_type": "code",
   "execution_count": 1027,
   "metadata": {},
   "outputs": [
    {
     "name": "stdout",
     "output_type": "stream",
     "text": [
      "<class 'pandas.core.frame.DataFrame'>\n",
      "Int64Index: 39170 entries, 0 to 39169\n",
      "Data columns (total 11 columns):\n",
      " #   Column         Non-Null Count  Dtype \n",
      "---  ------         --------------  ----- \n",
      " 0   Student ID     39170 non-null  int64 \n",
      " 1   student_name   39170 non-null  object\n",
      " 2   gender         39170 non-null  object\n",
      " 3   grade          39170 non-null  object\n",
      " 4   school_name    39170 non-null  object\n",
      " 5   reading_score  39170 non-null  int64 \n",
      " 6   math_score     39170 non-null  int64 \n",
      " 7   School ID      39170 non-null  int64 \n",
      " 8   school_type    39170 non-null  object\n",
      " 9   size           39170 non-null  int64 \n",
      " 10  budget         39170 non-null  int64 \n",
      "dtypes: int64(6), object(5)\n",
      "memory usage: 3.6+ MB\n"
     ]
    }
   ],
   "source": [
    "renamed_df.info()"
   ]
  },
  {
   "cell_type": "code",
   "execution_count": 1028,
   "metadata": {},
   "outputs": [
    {
     "data": {
      "text/html": [
       "<div>\n",
       "<style scoped>\n",
       "    .dataframe tbody tr th:only-of-type {\n",
       "        vertical-align: middle;\n",
       "    }\n",
       "\n",
       "    .dataframe tbody tr th {\n",
       "        vertical-align: top;\n",
       "    }\n",
       "\n",
       "    .dataframe thead th {\n",
       "        text-align: right;\n",
       "    }\n",
       "</style>\n",
       "<table border=\"1\" class=\"dataframe\">\n",
       "  <thead>\n",
       "    <tr style=\"text-align: right;\">\n",
       "      <th></th>\n",
       "      <th>Total Students</th>\n",
       "      <th>Total Schools</th>\n",
       "      <th>Total Budget</th>\n",
       "      <th>Average Reading Score</th>\n",
       "      <th>Average Math Score</th>\n",
       "      <th>% Passing Math</th>\n",
       "      <th>% Passing Reading</th>\n",
       "      <th>% Overall Passing</th>\n",
       "    </tr>\n",
       "  </thead>\n",
       "  <tbody>\n",
       "    <tr>\n",
       "      <th>0</th>\n",
       "      <td>39170</td>\n",
       "      <td>15</td>\n",
       "      <td>82932329558</td>\n",
       "      <td>81.87784</td>\n",
       "      <td>78.985371</td>\n",
       "      <td>74.980853</td>\n",
       "      <td>85.805463</td>\n",
       "      <td>65.172326</td>\n",
       "    </tr>\n",
       "  </tbody>\n",
       "</table>\n",
       "</div>"
      ],
      "text/plain": [
       "   Total Students  Total Schools  Total Budget  Average Reading Score  \\\n",
       "0           39170             15   82932329558               81.87784   \n",
       "\n",
       "   Average Math Score  % Passing Math  % Passing Reading  % Overall Passing  \n",
       "0           78.985371       74.980853          85.805463          65.172326  "
      ]
     },
     "execution_count": 1028,
     "metadata": {},
     "output_type": "execute_result"
    }
   ],
   "source": [
    "total_summary_df = pd.DataFrame({'Total Students' : [total_students],\n",
    "                            'Total Schools' : [total_schools],\n",
    "                            'Total Budget' : [total_budget],\n",
    "                            'Average Reading Score' : [avg_reading],\n",
    "                            'Average Math Score' : [avg_math],\n",
    "                            '% Passing Math' : [passing_percent],\n",
    "                            '% Passing Reading' : [passing_percent_reading],\n",
    "                            '% Overall Passing' : [overall_passing]})\n",
    "\n",
    "total_summary_df\n"
   ]
  },
  {
   "cell_type": "code",
   "execution_count": 1029,
   "metadata": {},
   "outputs": [
    {
     "data": {
      "text/plain": [
       "74.9808526933878"
      ]
     },
     "execution_count": 1029,
     "metadata": {},
     "output_type": "execute_result"
    }
   ],
   "source": [
    "math_passing = (renamed_df['math_score'] >= 70)\n",
    "\n",
    "math_passing.sum()\n",
    "\n",
    "passing = math_passing.sum()\n",
    "\n",
    "passing\n",
    "\n",
    "passed_math = passing /(total_students)\n",
    "\n",
    "passing_percent = passed_math*100\n",
    "\n",
    "passing_percent"
   ]
  },
  {
   "cell_type": "code",
   "execution_count": 1030,
   "metadata": {},
   "outputs": [
    {
     "data": {
      "text/plain": [
       "85.80546336482001"
      ]
     },
     "execution_count": 1030,
     "metadata": {},
     "output_type": "execute_result"
    }
   ],
   "source": [
    "read_passing = (renamed_df['reading_score'] >= 70)\n",
    "\n",
    "read_passing.sum()\n",
    "\n",
    "sum_passing = read_passing.sum()\n",
    "\n",
    "sum_passing\n",
    "\n",
    "passed_reading = sum_passing /(total_students)\n",
    "\n",
    "passing_percent_reading = passed_reading*100\n",
    "\n",
    "passing_percent_reading"
   ]
  },
  {
   "cell_type": "code",
   "execution_count": 1031,
   "metadata": {},
   "outputs": [
    {
     "ename": "NameError",
     "evalue": "name 'somefunction' is not defined",
     "output_type": "error",
     "traceback": [
      "\u001b[0;31m---------------------------------------------------------------------------\u001b[0m",
      "\u001b[0;31mNameError\u001b[0m                                 Traceback (most recent call last)",
      "\u001b[0;32m<ipython-input-1031-1a1e9a9a3398>\u001b[0m in \u001b[0;36m<module>\u001b[0;34m\u001b[0m\n\u001b[0;32m----> 1\u001b[0;31m \u001b[0mrenamed_df\u001b[0m\u001b[0;34m.\u001b[0m\u001b[0mloc\u001b[0m\u001b[0;34m[\u001b[0m\u001b[0mmath_score\u001b[0m\u001b[0;34m]\u001b[0m \u001b[0;34m=\u001b[0m \u001b[0msomefunction\u001b[0m\u001b[0;34m\u001b[0m\u001b[0;34m\u001b[0m\u001b[0m\n\u001b[0m",
      "\u001b[0;31mNameError\u001b[0m: name 'somefunction' is not defined"
     ]
    }
   ],
   "source": [
    "renamed_df.loc[math_score] = somefunction"
   ]
  },
  {
   "cell_type": "code",
   "execution_count": null,
   "metadata": {},
   "outputs": [],
   "source": [
    "ok = renamed_df.copy()\n",
    "\n",
    "ok.reading_score = ok.math_score + 1\n",
    "\n",
    "ok"
   ]
  },
  {
   "cell_type": "code",
   "execution_count": null,
   "metadata": {},
   "outputs": [],
   "source": [
    "# TEST passed_both = renamed_df.loc[(renamed_df.math_score >= 70) & (renamed_df.reading_score >= 70), :]\n",
    "#passed_both"
   ]
  },
  {
   "cell_type": "code",
   "execution_count": null,
   "metadata": {},
   "outputs": [],
   "source": [
    "overall_passing_math = renamed_df.loc[renamed_df['math_score'] >=70, :]\n",
    "\n",
    "all_passing = overall_passing_math.loc[overall_passing_math ['reading_score'] >=70,:]\n",
    "\n",
    "overall_passing = (len(all_passing)/total_students)*100"
   ]
  },
  {
   "cell_type": "code",
   "execution_count": null,
   "metadata": {},
   "outputs": [],
   "source": [
    "overall_passing"
   ]
  },
  {
   "cell_type": "code",
   "execution_count": null,
   "metadata": {},
   "outputs": [],
   "source": [
    "renamed_df.head()"
   ]
  },
  {
   "cell_type": "code",
   "execution_count": null,
   "metadata": {},
   "outputs": [],
   "source": [
    "renamed_df.head()"
   ]
  },
  {
   "cell_type": "code",
   "execution_count": null,
   "metadata": {},
   "outputs": [],
   "source": [
    "\n",
    "#School Type - first()\n",
    "#Total students - sum\n",
    "#Total School Budget - sum\n",
    "#Per student budget - total school budget / total students\n",
    "#avg math\n",
    "#avg reading\n",
    "#passin math - threshold filter / count of all students\n",
    "#%passing reading - \"\n",
    "#%overall passing"
   ]
  },
  {
   "cell_type": "code",
   "execution_count": null,
   "metadata": {
    "scrolled": true
   },
   "outputs": [],
   "source": [
    "\n",
    "sum(renamed_df.loc[renamed_df.school_name ==  'Huang High School', 'math_score'] >= 70)"
   ]
  },
  {
   "cell_type": "code",
   "execution_count": null,
   "metadata": {},
   "outputs": [],
   "source": [
    "renamed_df.info()\n",
    "\n",
    "renamed_df['passed_both'] = renamed_df.loc[(renamed_df['math_score'] >= 70) & renamed_df.loc[(renamed_df['reading_score'] >= 70), :]]\n"
   ]
  },
  {
   "cell_type": "code",
   "execution_count": null,
   "metadata": {},
   "outputs": [],
   "source": [
    "#create new column for passed both\n",
    "renamed_df['passed_both'] = renamed_df.loc[(renamed_df['math_score'] >= 70) & renamed_df.loc[(renamed_df['reading_score'] >= 70), :]]\n",
    "\n",
    "df = renamed_df\n",
    "df.head()\n",
    "\n",
    "\n",
    "grouped_df = df.groupby('school_names')\n",
    "\n",
    "grouped_df.info()\n",
    "\n",
    "#summary table per school\n",
    "#df = renamed_df.groupby('school_name').agg({\n",
    "    #'Student ID' : lambda x : x.nunique(), #Total students\n",
    "    #'budget' : 'first', #School budget\n",
    "    #'math_score' : 'mean',\n",
    "    #'reading_score' : 'mean',\n",
    "    #'passed_both' : lambda x : x.nunique()\n",
    "    #})\n",
    "\n",
    "\n",
    "#df.columns = ['total_students', 'total_budget', 'avg_math_score', 'avg_read_score', 'passed_both']\n",
    "\n",
    "#df.loc[:, 'Per Student Budget'] = df.loc[:, 'total_budget'] / df.loc[:, 'total_students']\n",
    "\n",
    "#df.info()\n",
    "\n",
    "\n",
    "\n",
    "#df.loc[:, '% Passing Math'],:] = sum(df['math_score'] >= 70) / df.loc[:, 'total_students']\n",
    "#df.loc[:, '% Passing Reading'] = sum(df['reading_score'] >= 70) / df.loc[:, 'total_students']\n"
   ]
  },
  {
   "cell_type": "code",
   "execution_count": null,
   "metadata": {
    "scrolled": true
   },
   "outputs": [],
   "source": [
    "#create new column for passed both\n",
    "renamed_df['passed_both'] = renamed_df.loc[(renamed_df['math_score'] >= 70) & (renamed_df['reading_score'] >= 70), :]\n",
    "#renamed_df['total_students'] = \n",
    "\n",
    "\n",
    "#summary table per school\n",
    "df = renamed_df.groupby('school_name').agg({\n",
    "    'Student ID' : lambda x : x.nunique(), #Total students\n",
    "    'budget' : 'first', #School budget\n",
    "    'math_score' : 'mean',\n",
    "    'reading_score' : 'mean',\n",
    "    'passed_both' : lambda x : x.nunique()\n",
    "    })\n",
    "\n",
    "\n",
    "df.columns = ['total_students', 'total_budget', 'avg_math_score', 'avg_read_score', 'passed_both']\n",
    "\n",
    "df.loc[:, 'Per Student Budget'] = df.loc[:, 'total_budget'] / df.loc[:, 'total_students']\n",
    "\n",
    "df.info()\n",
    "\n",
    "\n",
    "\n",
    "df.loc[:, '% Passing Math'],:] = sum(df['math_score'] >= 70) / df.loc[:, 'total_students']\n",
    "#df.loc[:, '% Passing Reading'] = sum(df['reading_score'] >= 70) / df.loc[:, 'total_students']\n",
    "\n",
    "df.head()\n"
   ]
  }
 ],
 "metadata": {
  "kernelspec": {
   "display_name": "Python 3",
   "language": "python",
   "name": "python3"
  },
  "language_info": {
   "codemirror_mode": {
    "name": "ipython",
    "version": 3
   },
   "file_extension": ".py",
   "mimetype": "text/x-python",
   "name": "python",
   "nbconvert_exporter": "python",
   "pygments_lexer": "ipython3",
   "version": "3.7.6"
  }
 },
 "nbformat": 4,
 "nbformat_minor": 4
}
